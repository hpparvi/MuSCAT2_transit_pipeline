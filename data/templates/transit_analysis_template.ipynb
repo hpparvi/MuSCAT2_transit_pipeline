{
 "cells": [
  {
   "cell_type": "markdown",
   "metadata": {},
   "source": [
    "# $target $night"
   ]
  },
  {
   "cell_type": "code",
   "execution_count": null,
   "metadata": {
    "scrolled": true
   },
   "outputs": [],
   "source": [
    "%pylab inline"
   ]
  },
  {
   "cell_type": "code",
   "execution_count": null,
   "metadata": {
    "scrolled": true
   },
   "outputs": [],
   "source": [
    "from muscat2ta.transitanalysis import TransitAnalysis as TA"
   ]
  },
  {
   "cell_type": "markdown",
   "metadata": {},
   "source": [
    "## Plot the field"
   ]
  },
  {
   "cell_type": "markdown",
   "metadata": {},
   "source": [
    "![]($field)"
   ]
  },
  {
   "cell_type": "markdown",
   "metadata": {},
   "source": [
    "## Transit analysis initialisation\n",
    "\n",
    "The transit analysis is done with a `TransitAnalysis` class that takes the root data directory (`droot`), target name (`target`), observing night (`night`), target ID (`tid`), and a list of comparison star IDs (`cids`). \n",
    "\n",
    "The data should be organized so that the photometry files are in `droot/target/night`."
   ]
  },
  {
   "cell_type": "code",
   "execution_count": null,
   "metadata": {
    "scrolled": true
   },
   "outputs": [],
   "source": [
    "ta = TA('$target', '$night', tid=TID, cids=CIDS, use_opencl=False, radius_ratio='achromatic')"
   ]
  },
  {
   "cell_type": "markdown",
   "metadata": {},
   "source": [
    "## Light curve cleanup\n",
    "### Plot the target and the n brightest stars\n",
    "\n",
    "These plots show the raw absolute light curves for the target and the brightest stars in the field. The plots will not be saved, but help when choosing the reference stars and deciding if the light curve needs to be trimmed."
   ]
  },
  {
   "cell_type": "code",
   "execution_count": null,
   "metadata": {
    "scrolled": true
   },
   "outputs": [],
   "source": [
    "ta.plot_raw_light_curves(ylim=(0.95, 1.05));"
   ]
  },
  {
   "cell_type": "markdown",
   "metadata": {},
   "source": [
    "**Light curve trimming:**\n",
    "\n",
    "If the light curve contains spans of bad data, they can be trimmed away usin `ta.cut()`. The method will remove the data **between** `tstart` and `tend`. If you want to cut all the data from beginning till `START_TIME`, you can call the method as\n",
    "\n",
    "    ta.lpf.cut(tend=START_TIME, apply=False)\n",
    "\n",
    "if you want to cut all the data after `END_TIME`, you can call the method as\n",
    "\n",
    "    ta.lpf.cut(tstart=END_TIME, apply=False)\n",
    "    \n",
    "and if you want to remove the data between times `T1` and `T2`, you can call the method as \n",
    "   \n",
    "    ta.lpf.cut(tstart=T1, tend=t2, apply=False)\n",
    "\n",
    "*Note:* You need to set `apply=True` to actually apply the outlier removal. By default the command only plots what would be removed if `apply` would be `True`."
   ]
  },
  {
   "cell_type": "code",
   "execution_count": null,
   "metadata": {
    "scrolled": true
   },
   "outputs": [],
   "source": [
    "ta.lpf.cut(tstart=-inf, tend=inf, apply=False)"
   ]
  },
  {
   "cell_type": "markdown",
   "metadata": {},
   "source": [
    "**Outlier removal:** The pipeline comes with several ways to remove outliers, of which `ta.lpf.apply_normalized_limits(aid, lower, upper, apply, plot, npoly, iterations)` is the most user friendly. The method removes points with relative normalised flux smaller than `lower` and larger than `upper`.\n",
    "\n",
    "*Note:* You need to set `apply=True` to actually apply the outlier removal. By default the command only plots what would be removed if `apply` would be `True`."
   ]
  },
  {
   "cell_type": "code",
   "execution_count": null,
   "metadata": {
    "scrolled": true
   },
   "outputs": [],
   "source": [
    "ta.apply_normalized_limits(4, lower=0.9, upper=1.1, apply=False, plot=True, npoly=2, iterations=5)"
   ]
  },
  {
   "cell_type": "markdown",
   "metadata": {},
   "source": [
    "**Downsampling:** the light curves can be downsampled (binned) to 30-60 second exposures in most cases without compromising the quality of the analysis. This can speed up the analysis significantly, and is especially recommended with bright TESS targets."
   ]
  },
  {
   "cell_type": "code",
   "execution_count": null,
   "metadata": {
    "scrolled": true
   },
   "outputs": [],
   "source": [
    "ta.downsample(60)"
   ]
  },
  {
   "cell_type": "markdown",
   "metadata": {},
   "source": [
    "## Set the parameter priors\n",
    "\n",
    "The basic `TransitAnalysis` class doesn't know how the automatically set the priors for the period, transit centre, radius ratio, etc., but you need to set these manually. The priors can be set using the `ta.set_prior` method as\n",
    "\n",
    "    ta.set_prior(PARAM, PRIOR, A, B)\n",
    "    \n",
    "where `PARAM` is the parameter name, `PRIOR` is either `\"NP\"` for a normal prior or `\"UP\"` for a uniform prior, and `A` and `B` are the prior parameters (`PRIOR` can also be a `Prior` object, but this is for more advanced use). For example, setting a normal prior on the orbital period with a mean of 1.5 and an std of 0.1 is done as\n",
    "\n",
    "    ta.set_prior('p', 'NP', 1.5, 0.1)\n",
    "    \n",
    "and setting a uniform prior from 0.5 to 10 g cm$^{-3}$ for the stellar density is done as\n",
    "\n",
    "    ta.set_prior('rho', 'UP', 0.5, 10.0)\n",
    "    \n",
    "First, let's print the parameters and the priors"
   ]
  },
  {
   "cell_type": "code",
   "execution_count": null,
   "metadata": {},
   "outputs": [],
   "source": [
    "ta.lpf.print_parameters(1)"
   ]
  },
  {
   "cell_type": "markdown",
   "metadata": {},
   "source": [
    "Next, we change all the priors that need to be changed. Probably at least the transit centre and orbital period."
   ]
  },
  {
   "cell_type": "code",
   "execution_count": null,
   "metadata": {
    "scrolled": true
   },
   "outputs": [],
   "source": [
    "ta.set_prior('tc', 'NP', 0.0, 0.001) # Change me! Transit centre prior\n",
    "ta.set_prior('p', 'NP',  1.0, 0.001) # Change me! orbital period prior"
   ]
  },
  {
   "cell_type": "markdown",
   "metadata": {},
   "source": [
    "Finally, let's print the parameters again to make sure our changes are correct."
   ]
  },
  {
   "cell_type": "code",
   "execution_count": null,
   "metadata": {},
   "outputs": [],
   "source": [
    "ta.lpf.print_parameters(1)"
   ]
  },
  {
   "cell_type": "markdown",
   "metadata": {},
   "source": [
    "## Global optimisation\n",
    "\n",
    "The global optimisation step aims to find the best combination of reference stars (from the set of reference star IDs given in the initialisation), target and reference apertures, global posterior maximum for the transit model, and the trends modelled as a linear combination of covariates."
   ]
  },
  {
   "cell_type": "code",
   "execution_count": null,
   "metadata": {
    "scrolled": true
   },
   "outputs": [],
   "source": [
    "ta.optimize(niter=1000)"
   ]
  },
  {
   "cell_type": "code",
   "execution_count": null,
   "metadata": {
    "scrolled": true
   },
   "outputs": [],
   "source": [
    "ta.plot_light_curve();"
   ]
  },
  {
   "cell_type": "markdown",
   "metadata": {},
   "source": [
    "The photometry should be frozen with `freeze_photometry()` after a good solution has been found. This fixes the reference stars and the target and reference apertures to the best-fit solution, and makes the MCMC sampling significantly more efficient."
   ]
  },
  {
   "cell_type": "code",
   "execution_count": null,
   "metadata": {
    "scrolled": true
   },
   "outputs": [],
   "source": [
    "ta.freeze_photometry()"
   ]
  },
  {
   "cell_type": "code",
   "execution_count": null,
   "metadata": {
    "scrolled": true
   },
   "outputs": [],
   "source": [
    "ta.optimize(niter=1000)"
   ]
  },
  {
   "cell_type": "code",
   "execution_count": null,
   "metadata": {
    "scrolled": true
   },
   "outputs": [],
   "source": [
    "ta.plot_light_curve();"
   ]
  },
  {
   "cell_type": "markdown",
   "metadata": {},
   "source": [
    "## MCMC Sampling"
   ]
  },
  {
   "cell_type": "code",
   "execution_count": null,
   "metadata": {
    "scrolled": true
   },
   "outputs": [],
   "source": [
    "ta.sample(niter=1000, thin=10, repeats=3)"
   ]
  },
  {
   "cell_type": "code",
   "execution_count": null,
   "metadata": {
    "scrolled": true
   },
   "outputs": [],
   "source": [
    "ta.plot_light_curve(method='mc', figsize=(13, 8));"
   ]
  },
  {
   "cell_type": "code",
   "execution_count": null,
   "metadata": {
    "scrolled": true
   },
   "outputs": [],
   "source": [
    "ta.plot_basic_posteriors();"
   ]
  },
  {
   "cell_type": "markdown",
   "metadata": {},
   "source": [
    "## Saving"
   ]
  },
  {
   "cell_type": "code",
   "execution_count": null,
   "metadata": {
    "scrolled": true
   },
   "outputs": [],
   "source": [
    "ta.save()"
   ]
  },
  {
   "cell_type": "code",
   "execution_count": null,
   "metadata": {
    "scrolled": true
   },
   "outputs": [],
   "source": [
    "ta.save_fits()"
   ]
  },
  {
   "cell_type": "markdown",
   "metadata": {},
   "source": [
    "---\n",
    "\n",
    "<center> &copy; 2019 Hannu Parviainen </center>"
   ]
  }
 ],
 "metadata": {
  "kernelspec": {
   "display_name": "Python 3",
   "language": "python",
   "name": "python3"
  },
  "language_info": {
   "codemirror_mode": {
    "name": "ipython",
    "version": 3
   },
   "file_extension": ".py",
   "mimetype": "text/x-python",
   "name": "python",
   "nbconvert_exporter": "python",
   "pygments_lexer": "ipython3",
   "version": "3.7.7"
  },
  "latex_envs": {
   "LaTeX_envs_menu_present": true,
   "autoclose": false,
   "autocomplete": true,
   "bibliofile": "biblio.bib",
   "cite_by": "apalike",
   "current_citInitial": 1,
   "eqLabelWithNumbers": true,
   "eqNumInitial": 1,
   "hotkeys": {
    "equation": "Ctrl-E",
    "itemize": "Ctrl-I"
   },
   "labels_anchors": false,
   "latex_user_defs": false,
   "report_style_numbering": false,
   "user_envs_cfg": false
  }
 },
 "nbformat": 4,
 "nbformat_minor": 2
}
