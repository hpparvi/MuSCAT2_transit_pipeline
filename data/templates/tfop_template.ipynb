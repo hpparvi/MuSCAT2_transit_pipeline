{
 "cells": [
  {
   "cell_type": "markdown",
   "metadata": {},
   "source": [
    "# MuSCAT2 $target $night TFOP analysis"
   ]
  },
  {
   "cell_type": "code",
   "execution_count": null,
   "metadata": {},
   "outputs": [],
   "source": [
    "%pylab inline"
   ]
  },
  {
   "cell_type": "code",
   "execution_count": null,
   "metadata": {},
   "outputs": [],
   "source": [
    "from muscat2ta.tfopanalysis import TFOPAnalysis"
   ]
  },
  {
   "cell_type": "markdown",
   "metadata": {},
   "source": [
    "## Initialise TFOP analysis\n",
    "\n",
    "The TFOP analysis is done with the `muscat2ta.tfopanalysis.TFOPAnalysis` class that contains all the necessary methods for the TFOP data reduction and analysis.\n",
    "\n",
    "`TFOPAnalysis` is initialised with\n",
    "\n",
    " - `target`: target name exactly as in the `MuSCAT2` catalog\n",
    " - `date`: Observing date in the format yymmdd\n",
    " - `tid`: target ID\n",
    " - `cids`: list of IDs of the useful comparison stars to include into the comparison star optimisation. *Note:* The final set of comparison stars will be a subset of these stars. The analysis is relatively robust against bad comparison stars, but each comparison star adds `npb` free parameters to the optimisation.\n",
    " \n",
    "and has a set of optional arguments that can be used to fine-tune the analysis\n",
    "\n",
    " - `passbands ['g','r','i','z_s']`: passbands to include into the analysis.\n",
    " - `aperture_limits [(0, inf)]`: a (min, max) tuple of aperture ID limits for the aperture optimisation.\n",
    " - `mjd_lims [(-inf, inf)]`: limits to trim the light curves from the beginning and end.\n",
    " - `use_opencl [False]`: use OpenCL (some parts of the computations will be done with the GPU) if `True`.\n",
    " - `with_transit [True]`: include a transit model into the light curve model if `True`.\n",
    " - `contamination [None]`: allow the flux to be contaminated by an unresolved star if `True`.\n",
    " - `radius_ratio ['achromatic']`: `chromatic` for passband dependent radius ratios and `achromatic` for passband independent radius ratios.\n",
    " - `npop [200]`: number of parameter vectors in the optimisation and MCMC.\n",
    " - `toi [None]`: `TOI` object with the ExoFOP TOI information.\n",
    " \n",
    "**TFOPAnalysis initialisation:**"
   ]
  },
  {
   "cell_type": "code",
   "execution_count": null,
   "metadata": {},
   "outputs": [],
   "source": [
    "ta = TFOPAnalysis('$target', '$night', TID, CIDS, use_opencl=False)"
   ]
  },
  {
   "cell_type": "markdown",
   "metadata": {},
   "source": [
    "**Outlier removal:** The pipeline comes with several ways to remove outliers, of which `ta.lpf.apply_normalized_limits(aid, lower, upper, apply, plot, npoly, iterations)` is the most user friendly. The method removes points with relative normalised flux smaller than `lower` and larger than `upper`.\n",
    "\n",
    "*Note:* You need to set `apply=True` to actually apply the outlier removal. By default the command only plots what would be removed if `apply` would be `True`."
   ]
  },
  {
   "cell_type": "code",
   "execution_count": null,
   "metadata": {},
   "outputs": [],
   "source": [
    "ta.apply_normalized_limits(4, lower=0.9, upper=1.1, apply=False, plot=True, npoly=2, iterations=5)"
   ]
  },
  {
   "cell_type": "markdown",
   "metadata": {},
   "source": [
    "**Downsampling:** the light curves can be downsampled (binned) to 30-60 second exposures in most cases without compromising the quality of the analysis. This can speed up the analysis significantly, and is especially recommended with bright TESS targets."
   ]
  },
  {
   "cell_type": "code",
   "execution_count": null,
   "metadata": {},
   "outputs": [],
   "source": [
    "ta.downsample(60)"
   ]
  },
  {
   "cell_type": "markdown",
   "metadata": {},
   "source": [
    "## Create the basic TFOP files"
   ]
  },
  {
   "cell_type": "markdown",
   "metadata": {},
   "source": [
    "### Plot the target and the n brightest stars\n",
    "\n",
    "These plots show the raw absolute light curves for the target and the brightest stars in the field. The plots will not be saved, but help when choosing the reference stars. These figures will not be saved."
   ]
  },
  {
   "cell_type": "code",
   "execution_count": null,
   "metadata": {},
   "outputs": [],
   "source": [
    "for ph in ta.phs:\n",
    "    ph.plot_raw(8, figsize=(13,4.5), ylim=(0.92, 1.05));"
   ]
  },
  {
   "cell_type": "markdown",
   "metadata": {},
   "source": [
    "### Plot possible blends\n",
    "\n",
    "Plot the raw fluxes from all the stars that are within 2.5 arcmin from the target. The plot is saved to the final output directory.\n",
    "\n",
    "These plots are important for TFOP and will be saved in the result directory. The plots show the raw light curves for the target star and all the stars around it within a given radius (unbinned and binned). The plots also show the expected times for the transit start, centre, and end (with their uncertainties), and the expected transit signal with depth corresponding to the depth that would be observed if the transit would be on the blending star (in reality we'd expect to see even deeper signal, because these plots assume blending only between the target and the possible blend, while in reality the blend is blended with multiple sources). The plots show the flux ratio between the target and the possible contaminant on the top-right corner. \n",
    "\n",
    "`ta.plot_possible_blends` requires two arguments\n",
    "\n",
    "- `cid:` comparison star index. Should be a bright (non-saturated) star outside a 2 arcmin radius of the target star.\n",
    "- `aid:` aperture index. The aperture should be large enough to capture the flux of the brightest star within 2 arcmin from the target."
   ]
  },
  {
   "cell_type": "code",
   "execution_count": null,
   "metadata": {},
   "outputs": [],
   "source": [
    "ta.plot_possible_blends(cid=CID, aid=AID)"
   ]
  },
  {
   "cell_type": "markdown",
   "metadata": {},
   "source": [
    "### Plot covariates\n",
    "\n",
    "Plot the covariates for all the passbands and save the figure in the final output directory."
   ]
  },
  {
   "cell_type": "code",
   "execution_count": null,
   "metadata": {},
   "outputs": [],
   "source": [
    "ta.plot_covariates()"
   ]
  },
  {
   "cell_type": "markdown",
   "metadata": {},
   "source": [
    "### Export the raw data\n",
    "\n",
    "Export the photometry in .csv files that are saved in the final output directory."
   ]
  },
  {
   "cell_type": "code",
   "execution_count": null,
   "metadata": {},
   "outputs": [],
   "source": [
    "ta.export_tables()"
   ]
  },
  {
   "cell_type": "markdown",
   "metadata": {},
   "source": [
    "## Transit modelling\n",
    "\n",
    "### Global optimisation\n",
    "\n",
    "Transit modelling starts with a global optimisation run using `TFOPAnalysis.optimize`. This step optimises the set of comparison stars, target and comparison star apertues, a baseline model using the covariates and (optional) time variability modelled as Legendre polynomials, and (optional) transit model.\n",
    "\n",
    "The global optimisation can be done semi-interactively. First run the optimisation (run the cell below) with a small number of iterations (200-500) and plot the fit (run the second cell below). Next, run the optimisation again (run the cell below), and the optimiser will continue from where it left, and again check the optimisation by plotting the fit. If everything looks fine (the optimiser seems to be converging to a sensible solution), do a longer optimisation run (1000-2000 iterations), plot the fit, and continue to sampling. If the optimisation stops before it reaches the number of iterations, it has converged to a point, and you can continue to sampling"
   ]
  },
  {
   "cell_type": "code",
   "execution_count": null,
   "metadata": {},
   "outputs": [],
   "source": [
    "ta.optimize(1000)"
   ]
  },
  {
   "cell_type": "code",
   "execution_count": null,
   "metadata": {},
   "outputs": [],
   "source": [
    "fig, axs = ta.plot_fit('de')"
   ]
  },
  {
   "cell_type": "markdown",
   "metadata": {},
   "source": [
    "### MCMC sampling\n",
    "\n",
    "The MCMC sampling of the posterior is done using `TFOPAnalysis.sample`. First, the set of comparison stars and target and comparison apertures should be frozen using `TFOPAnalysis.freeze_photometry`. This reduces the number of free parameters, and significantly improves the MCMC sampling efficiency. We'll also follow the freezing with a small optimisation step.\n",
    "\n",
    "The sampling can be done the same way as optimisation. Run the sampler for some (500-1000) iterations and plot the fit. Also check the chain population using `TFOPAnalysis.plot_mcmc_chains` to see how well the sampler is behaving. Do a longer final MCMC run after everything looks ok, and continue."
   ]
  },
  {
   "cell_type": "code",
   "execution_count": null,
   "metadata": {},
   "outputs": [],
   "source": [
    "ta.freeze_photometry()"
   ]
  },
  {
   "cell_type": "code",
   "execution_count": null,
   "metadata": {},
   "outputs": [],
   "source": [
    "ta.optimize(500)"
   ]
  },
  {
   "cell_type": "code",
   "execution_count": null,
   "metadata": {},
   "outputs": [],
   "source": [
    "ta.sample(niter=500, repeats=2)"
   ]
  },
  {
   "cell_type": "code",
   "execution_count": null,
   "metadata": {},
   "outputs": [],
   "source": [
    "fig, axs = ta.plot_fit('mc')"
   ]
  },
  {
   "cell_type": "markdown",
   "metadata": {},
   "source": [
    "### Plot the final Report"
   ]
  },
  {
   "cell_type": "code",
   "execution_count": null,
   "metadata": {},
   "outputs": [],
   "source": [
    "ta.plot_final_fit()"
   ]
  },
  {
   "cell_type": "markdown",
   "metadata": {},
   "source": [
    "## Save the MCMC sampling and the reduced light curve"
   ]
  },
  {
   "cell_type": "code",
   "execution_count": null,
   "metadata": {},
   "outputs": [],
   "source": [
    "ta.save()"
   ]
  },
  {
   "cell_type": "code",
   "execution_count": null,
   "metadata": {},
   "outputs": [],
   "source": [
    "ta.save_fits()"
   ]
  },
  {
   "cell_type": "code",
   "execution_count": null,
   "metadata": {},
   "outputs": [],
   "source": [
    "ta.finalize()"
   ]
  }
 ],
 "metadata": {
  "kernelspec": {
   "display_name": "Python 3",
   "language": "python",
   "name": "python3"
  },
  "language_info": {
   "codemirror_mode": {
    "name": "ipython",
    "version": 3
   },
   "file_extension": ".py",
   "mimetype": "text/x-python",
   "name": "python",
   "nbconvert_exporter": "python",
   "pygments_lexer": "ipython3",
   "version": "3.7.5"
  }
 },
 "nbformat": 4,
 "nbformat_minor": 2
}
